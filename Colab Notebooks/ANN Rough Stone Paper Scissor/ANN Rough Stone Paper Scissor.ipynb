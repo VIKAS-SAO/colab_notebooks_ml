{
 "cells": [
  {
   "cell_type": "code",
   "execution_count": 1,
   "metadata": {},
   "outputs": [],
   "source": [
    "import time\n",
    "import numpy as np\n",
    "import pandas as pd\n",
    "import seaborn as sns\n",
    "import random\n",
    "import math\n",
    "import sys\n",
    "import copy\n",
    "import matplotlib.pyplot as plt \n",
    "%matplotlib inline\n",
    "from sklearn.preprocessing import LabelEncoder \n",
    "from sklearn.model_selection import train_test_split\n",
    "import warnings\n",
    "warnings.filterwarnings('ignore') \n",
    "from zipfile import ZipFile \n",
    "import sklearn\n",
    "import tensorflow as tf\n",
    "import tensorflow_hub as hub\n",
    "from tensorflow import keras \n",
    "from tensorflow.keras import layers \n",
    "from tensorflow.keras.models import Sequential \n",
    "import PIL.Image as Image\n",
    "import cv2 \n",
    "from sklearn.metrics import accuracy_score , confusion_matrix, classification_report\n",
    "number_of_samples =100\n",
    "from collections import Counter\n",
    "\n",
    " "
   ]
  },
  {
   "cell_type": "code",
   "execution_count": 2,
   "metadata": {},
   "outputs": [],
   "source": [
    "# capture function\n",
    "def sample_maker(d  ):\n",
    "    data = []\n",
    "    for i in d:\n",
    "        x = i\n",
    "        x.shape =(d[0].shape[0]*d[0].shape[1]*d[0].shape[2])\n",
    "        x = x.tolist()\n",
    "        x = np.array(x)\n",
    "        data.append(x)\n",
    "    return np.array(data)\n",
    "    \n",
    "\n",
    "def sample_collector(class_label):\n",
    "    cap=cv2.VideoCapture(0)\n",
    "    cap.set(3,500)\n",
    "    cap.set(4,500)\n",
    "    stone=[]\n",
    "    x=0\n",
    "    while True:\n",
    "        _,image =cap.read()\n",
    "        hsv = cv2.cvtColor(image , cv2.COLOR_BGR2HSV)\n",
    "        gray = cv2.cvtColor(hsv , cv2.COLOR_BGR2GRAY)\n",
    "\n",
    "    #     if x%2==0: \n",
    "        image = cv2.resize(image , (100,100))\n",
    "        gray = cv2.resize(gray , (100,100))\n",
    "        cv2.imshow('image' ,image) \n",
    "\n",
    "\n",
    "     #     x+=1\n",
    "        if len(stone)>=number_of_samples:\n",
    "            break\n",
    "        stone.append(image)\n",
    "\n",
    "        k = cv2.waitKey(5)\n",
    "        if k==27:\n",
    "            break\n",
    "\n",
    "    cap.release()\n",
    "    cv2.destroyAllWindows()\n",
    "    stone = np.array(stone)\n",
    "    return sample_maker(stone)\n"
   ]
  },
  {
   "cell_type": "code",
   "execution_count": 3,
   "metadata": {},
   "outputs": [],
   "source": [
    "stone = sample_collector(0) "
   ]
  },
  {
   "cell_type": "code",
   "execution_count": 4,
   "metadata": {},
   "outputs": [],
   "source": [
    "paper = sample_collector(1)  "
   ]
  },
  {
   "cell_type": "code",
   "execution_count": 5,
   "metadata": {},
   "outputs": [],
   "source": [
    "scissor = sample_collector(2) "
   ]
  },
  {
   "cell_type": "code",
   "execution_count": 6,
   "metadata": {},
   "outputs": [],
   "source": [
    "nothing =sample_collector(3)\n"
   ]
  },
  {
   "cell_type": "code",
   "execution_count": 7,
   "metadata": {},
   "outputs": [
    {
     "name": "stdout",
     "output_type": "stream",
     "text": [
      "(400, 30000)\n",
      "(400,)\n"
     ]
    }
   ],
   "source": [
    "  \n",
    "data = stone \n",
    "data = np.concatenate((data ,paper) , axis = 0)\n",
    "data = np.concatenate((data ,scissor) , axis = 0) \n",
    "data = np.concatenate((data ,nothing) , axis = 0) \n",
    "X = data[: ,0:data.shape[1]]\n",
    "Y = np.zeros((400))\n",
    "Y[0:100]=0\n",
    "Y[100:200]=1\n",
    "Y[200:300]=2\n",
    "Y[300:400]=3\n",
    "print(X.shape)\n",
    "print(Y.shape)\n",
    "X =X/255\n",
    " \n"
   ]
  },
  {
   "cell_type": "code",
   "execution_count": 8,
   "metadata": {},
   "outputs": [
    {
     "data": {
      "text/plain": [
       "RandomForestClassifier(max_depth=2, random_state=0)"
      ]
     },
     "execution_count": 8,
     "metadata": {},
     "output_type": "execute_result"
    }
   ],
   "source": [
    "from sklearn.ensemble import RandomForestClassifier\n",
    "X_train, X_test, Y_train, Y_test = train_test_split( X, Y, test_size=0.20, random_state=100) \n",
    "\n",
    "model  =  RandomForestClassifier(max_depth=2, random_state=0)\n",
    "model.fit(X_train ,Y_train)\n",
    "\n"
   ]
  },
  {
   "cell_type": "code",
   "execution_count": 9,
   "metadata": {},
   "outputs": [
    {
     "name": "stdout",
     "output_type": "stream",
     "text": [
      "[2. 3. 1. 2. 1. 2. 1. 2. 1. 1. 1. 2. 3. 1. 3. 2. 2. 3. 0. 0. 3. 0. 0. 1.\n",
      " 2. 1. 1. 2. 0. 0. 0. 2. 0. 2. 2. 2. 0. 2. 1. 1. 1. 0. 0. 3. 2. 0. 2. 1.\n",
      " 2. 2. 0. 2. 2. 0. 3. 3. 3. 0. 2. 3. 2. 2. 3. 1. 1. 3. 3. 2. 1. 3. 1. 3.\n",
      " 0. 1. 0. 3. 1. 1. 2. 0.]\n",
      "[2. 3. 1. 2. 1. 2. 1. 2. 1. 1. 1. 2. 3. 1. 3. 2. 2. 3. 0. 0. 3. 0. 0. 1.\n",
      " 2. 1. 1. 2. 0. 0. 0. 2. 0. 2. 2. 2. 0. 2. 1. 1. 1. 0. 0. 3. 2. 0. 2. 1.\n",
      " 2. 2. 0. 2. 2. 0. 3. 3. 3. 0. 2. 3. 2. 2. 3. 1. 1. 3. 3. 2. 1. 3. 1. 3.\n",
      " 0. 1. 0. 3. 1. 1. 2. 0.]\n",
      "1.0\n"
     ]
    }
   ],
   "source": [
    "p = model.predict(X_test)\n",
    "print(p)\n",
    "print(Y_test)\n",
    "print(accuracy_score(p,Y_test))"
   ]
  },
  {
   "cell_type": "code",
   "execution_count": 10,
   "metadata": {},
   "outputs": [],
   "source": [
    "# model = keras.Sequential([\n",
    "#     keras.layers.Flatten(input_shape=(X.shape)) ,\n",
    "#     keras.layers.Dense(1000 ,activation = 'relu'),\n",
    "#     keras.layers.Dense(100 ,activation = 'relu'),\n",
    "#     keras.layers.Dense(4 ,activation = 'sigmoid')\n",
    "    \n",
    "# ])\n",
    "# model.compile(\n",
    "#     optimizer ='adam' ,\n",
    "#     loss= 'sparse_categorical_crossentropy' ,\n",
    "#     metrics =['accuracy']\n",
    "    \n",
    "# )\n",
    "# X_train, X_test, Y_train, Y_test = train_test_split( X, Y, test_size=0.20, random_state=100) \n",
    "\n",
    "# model.fit(X_train,Y_train ,epochs =10)"
   ]
  },
  {
   "cell_type": "code",
   "execution_count": 11,
   "metadata": {},
   "outputs": [],
   "source": [
    "# final detection\n",
    "\n",
    "cap=cv2.VideoCapture(0)\n",
    "cap.set(3,500)\n",
    "cap.set(4,500)\n",
    "\n",
    "#colors\n",
    "stone = cv2.imread('stone.jpg')\n",
    "stone = cv2.resize(stone,(400,400))\n",
    "paper = cv2.imread('paper.jpg')\n",
    "paper = cv2.resize(paper,(400,400))\n",
    "scissor = cv2.imread('scissor.jpg')\n",
    "scissor = cv2.resize(scissor,(400,400))\n",
    "nothing = cv2.imread('nothing.jpg')\n",
    "nothing = cv2.resize(nothing,(400,400)) \n",
    "    \n",
    "while True:\n",
    "    _,image =cap.read()\n",
    "    hsv = cv2.cvtColor(image , cv2.COLOR_BGR2HSV)\n",
    "    gray = cv2.cvtColor(hsv , cv2.COLOR_BGR2GRAY)\n",
    "    \n",
    "    \n",
    "\n",
    "    cv2.imshow('image' ,image) \n",
    "    image = cv2.resize(image , (100,100))\n",
    "    gray = cv2.resize(gray , (100,100))\n",
    "    \n",
    "\n",
    "\n",
    "   \n",
    "    \n",
    "  \n",
    "    \n",
    "    \n",
    "     \n",
    "    x = image\n",
    "    x.shape =(image.shape[0]*image.shape[1]*image.shape[2])\n",
    "    x = x.tolist()\n",
    "    x = np.array(x)\n",
    "    x =x/255\n",
    "\n",
    "    p= model.predict(np.array([x]))\n",
    "    result = p[0]\n",
    "          \n",
    "#     print(result)\n",
    "    \n",
    "    if result==0:\n",
    "        cv2.imshow('result' , stone)\n",
    "    if result==1:\n",
    "        cv2.imshow('result' , paper)\n",
    "        \n",
    "    if result==2:\n",
    "        cv2.imshow('result' , scissor)\n",
    "       \n",
    "    if result==3:\n",
    "        cv2.imshow('result' , nothing) \n",
    "        \n",
    "#     if count%4==0:\n",
    "#         cv2.imshow('result' , black)\n",
    "#     if count%4==1:\n",
    "#         cv2.imshow('result' , red)\n",
    "        \n",
    "#     if count%4==2:\n",
    "#         cv2.imshow('result' , blue)\n",
    "       \n",
    "#     if count%4==3:\n",
    "#         cv2.imshow('result' , green) \n",
    "#     count+=1 \n",
    "\n",
    "    k = cv2.waitKey(5)\n",
    "    if k==27:\n",
    "        break\n",
    "        \n",
    "cap.release()\n",
    "cv2.destroyAllWindows()\n"
   ]
  },
  {
   "cell_type": "code",
   "execution_count": null,
   "metadata": {},
   "outputs": [],
   "source": []
  }
 ],
 "metadata": {
  "kernelspec": {
   "display_name": "Python 3",
   "language": "python",
   "name": "python3"
  },
  "language_info": {
   "codemirror_mode": {
    "name": "ipython",
    "version": 3
   },
   "file_extension": ".py",
   "mimetype": "text/x-python",
   "name": "python",
   "nbconvert_exporter": "python",
   "pygments_lexer": "ipython3",
   "version": "3.8.5"
  }
 },
 "nbformat": 4,
 "nbformat_minor": 4
}
