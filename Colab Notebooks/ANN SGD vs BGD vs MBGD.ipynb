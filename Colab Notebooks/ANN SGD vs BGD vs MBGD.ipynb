{
 "cells": [
  {
   "cell_type": "code",
   "execution_count": 134,
   "metadata": {},
   "outputs": [],
   "source": [
    "import time\n",
    "import numpy as np\n",
    "import pandas as pd\n",
    "import seaborn as sns\n",
    "import random\n",
    "import math\n",
    "import sys\n",
    "import copy\n",
    "import matplotlib.pyplot as plt \n",
    "%matplotlib inline\n",
    "from sklearn.preprocessing import LabelEncoder \n",
    "from sklearn.model_selection import train_test_split\n",
    "import warnings\n",
    "warnings.filterwarnings('ignore') \n",
    "from zipfile import ZipFile \n",
    "import tensorflow as tf\n",
    "from tensorflow import keras\n",
    "\n",
    "\n"
   ]
  },
  {
   "cell_type": "code",
   "execution_count": 135,
   "metadata": {},
   "outputs": [
    {
     "data": {
      "text/html": [
       "<div>\n",
       "<style scoped>\n",
       "    .dataframe tbody tr th:only-of-type {\n",
       "        vertical-align: middle;\n",
       "    }\n",
       "\n",
       "    .dataframe tbody tr th {\n",
       "        vertical-align: top;\n",
       "    }\n",
       "\n",
       "    .dataframe thead th {\n",
       "        text-align: right;\n",
       "    }\n",
       "</style>\n",
       "<table border=\"1\" class=\"dataframe\">\n",
       "  <thead>\n",
       "    <tr style=\"text-align: right;\">\n",
       "      <th></th>\n",
       "      <th>area</th>\n",
       "      <th>bedrooms</th>\n",
       "      <th>price</th>\n",
       "    </tr>\n",
       "  </thead>\n",
       "  <tbody>\n",
       "    <tr>\n",
       "      <th>0</th>\n",
       "      <td>0.285405</td>\n",
       "      <td>0.4</td>\n",
       "      <td>39.07</td>\n",
       "    </tr>\n",
       "    <tr>\n",
       "      <th>1</th>\n",
       "      <td>0.702703</td>\n",
       "      <td>0.8</td>\n",
       "      <td>120.00</td>\n",
       "    </tr>\n",
       "    <tr>\n",
       "      <th>2</th>\n",
       "      <td>0.389189</td>\n",
       "      <td>0.6</td>\n",
       "      <td>62.00</td>\n",
       "    </tr>\n",
       "    <tr>\n",
       "      <th>3</th>\n",
       "      <td>0.411081</td>\n",
       "      <td>0.6</td>\n",
       "      <td>75.00</td>\n",
       "    </tr>\n",
       "    <tr>\n",
       "      <th>4</th>\n",
       "      <td>0.324324</td>\n",
       "      <td>0.4</td>\n",
       "      <td>51.00</td>\n",
       "    </tr>\n",
       "  </tbody>\n",
       "</table>\n",
       "</div>"
      ],
      "text/plain": [
       "       area  bedrooms   price\n",
       "0  0.285405       0.4   39.07\n",
       "1  0.702703       0.8  120.00\n",
       "2  0.389189       0.6   62.00\n",
       "3  0.411081       0.6   75.00\n",
       "4  0.324324       0.4   51.00"
      ]
     },
     "execution_count": 135,
     "metadata": {},
     "output_type": "execute_result"
    }
   ],
   "source": [
    "\n",
    "data = pd.read_csv('homeprices.csv')\n",
    "data['area']= data['area']/data['area'].max()\n",
    "data['bedrooms']= data['bedrooms']/data['bedrooms'].max()\n",
    "data.head()"
   ]
  },
  {
   "cell_type": "code",
   "execution_count": 140,
   "metadata": {},
   "outputs": [],
   "source": [
    "X_train , X_test, Y_train , Y_test = train_test_split(data[['area' , 'bedrooms']] , data['price']  , random_state = 0)\n",
    "X_train = np.array(X_train)\n",
    "Y_train = np.array(Y_train)\n",
    "X_test = np.array(X_test)\n",
    "Y_test = np.array(Y_test) \n",
    " "
   ]
  },
  {
   "cell_type": "code",
   "execution_count": 145,
   "metadata": {},
   "outputs": [
    {
     "data": {
      "text/plain": [
       "[<matplotlib.lines.Line2D at 0x1710007c880>]"
      ]
     },
     "execution_count": 145,
     "metadata": {},
     "output_type": "execute_result"
    },
    {
     "data": {
      "image/png": "[encoded data removed]",
      "text/plain": [
       "<Figure size 432x288 with 1 Axes>"
      ]
     },
     "metadata": {
      "needs_background": "light"
     },
     "output_type": "display_data"
    }
   ],
   "source": [
    "# batch gradient descent\n",
    "\n",
    "\n",
    "\n",
    "cost_list =[]\n",
    "epochs_list = []\n",
    "def batch_gradient_descent(X,Y_true , epochs  ,learning_rate =0.01):\n",
    "    number_of_features = X.shape[1]\n",
    "    w= np.ones(shape = (number_of_features))\n",
    "    b=0\n",
    "    n = len(X)\n",
    "    \n",
    "    \n",
    "    for i in range(epochs):\n",
    "        Y_pred = np.dot(w ,X_train.T)+b\n",
    "        w_grad = -(2/n)*(X.T.dot(Y_true-Y_pred))\n",
    "        b_grad = -(2/n)*np.sum(Y_true-Y_pred)\n",
    "        \n",
    "        w =w-learning_rate*w_grad\n",
    "        b =b-learning_rate*b_grad\n",
    "\n",
    "        cost = np.mean(np.square(Y_true-Y_pred))\n",
    "        if i%100==0: \n",
    "            cost_list.append(cost)\n",
    "            epochs_list.append(i)\n",
    "            \n",
    "    return w,b,cost\n",
    "        \n",
    "    \n",
    "w , b ,cost= batch_gradient_descent(X_train ,Y_train ,1000,0.001)\n",
    "plt.plot(epochs_list ,cost_list)\n",
    "\n",
    "\n"
   ]
  },
  {
   "cell_type": "code",
   "execution_count": 149,
   "metadata": {},
   "outputs": [
    {
     "name": "stdout",
     "output_type": "stream",
     "text": [
      "[105.32322741 112.24319126  60.47119466  85.722503    92.30082832]\n",
      "[102. 120.  50.  82. 102.]\n",
      "[102. 120.  32.  50.  82.]\n"
     ]
    }
   ],
   "source": [
    "def predict(area ,bedrooms , w,b):\n",
    "    area =np.array(area)\n",
    "    bedrooms =np.array(bedrooms)\n",
    "    area = area/area.max()\n",
    "    bedrooms = bedrooms/bedrooms.max()\n",
    "    \n",
    "    \n",
    "    result = w[0]*area+w[1]*bedrooms+b\n",
    "    print(result)\n",
    "    for i in  range(0,len(result)):\n",
    "        mini = Y_test[0]\n",
    "\n",
    "        for x in Y_test:\n",
    "            if abs(x-result[i])<=abs(mini-result[i]):\n",
    "                mini = x\n",
    "        result[i] =  mini \n",
    "    return result\n",
    "    \n",
    "prediction  = predict(X_test[: ,0] ,X_test[:,1]  , w,b) \n",
    "\n",
    "print(prediction)\n",
    "print(Y_test)"
   ]
  },
  {
   "cell_type": "code",
   "execution_count": 172,
   "metadata": {},
   "outputs": [
    {
     "name": "stdout",
     "output_type": "stream",
     "text": [
      "8266.056136186999\n",
      "2074.6238132133526\n",
      "2452.1136441915387\n",
      "2460.2512409758906\n",
      "2392.446195898332\n",
      "4689.885978463202\n",
      "2137.631664231198\n",
      "3402.279874888799\n",
      "2074.564937825776\n",
      "2684.409016615598\n",
      "[83.93976694 60.57138457] 4.682812983981003 2630.465837220036\n"
     ]
    },
    {
     "data": {
      "image/png": "[encoded data removed]",
      "text/plain": [
       "<Figure size 432x288 with 1 Axes>"
      ]
     },
     "metadata": {
      "needs_background": "light"
     },
     "output_type": "display_data"
    }
   ],
   "source": [
    "# stochastic gradient descent\n",
    "\n",
    "\n",
    "cost_list =[]\n",
    "epochs_list = []\n",
    "def batch_gradient_descent(X,Y_true , epochs  ,learning_rate =0.01):\n",
    "    number_of_features = X.shape[1]\n",
    "    \n",
    "    w= np.ones(shape = (number_of_features))\n",
    "    b=0\n",
    "    n = len(X)\n",
    "    \n",
    "    \n",
    "    \n",
    "    for i in range(epochs):\n",
    "        random_index  = random.randint(0,n-1)\n",
    "        sample_x =X[random_index]\n",
    "        sample_y =Y_true[random_index]\n",
    "        Y_pred = np.dot(w ,sample_x.T)+b\n",
    "        \n",
    "        w_grad = -(2/n)*(sample_x.T.dot(sample_y-Y_pred))\n",
    "        b_grad = -(2/n)*np.sum(sample_y-Y_pred)\n",
    "        \n",
    "        w =w-learning_rate*w_grad\n",
    "        b =b-learning_rate*b_grad\n",
    "\n",
    "        cost = np.mean(np.square(Y_true-Y_pred))\n",
    "    \n",
    "        if i%100==0: \n",
    "            print(cost)\n",
    "            cost_list.append(cost)\n",
    "            epochs_list.append(i)\n",
    "            \n",
    "    return w,b,cost\n",
    "        \n",
    "    \n",
    "w , b ,cost= batch_gradient_descent(X_train ,Y_train ,1000,0.11)\n",
    "plt.plot(epochs_list ,cost_list)\n",
    "\n",
    "print(w , b ,cost)\n",
    "\n",
    "\n"
   ]
  },
  {
   "cell_type": "code",
   "execution_count": 205,
   "metadata": {},
   "outputs": [
    {
     "name": "stdout",
     "output_type": "stream",
     "text": [
      "[33.27550636 33.8565536 ] 40.210975316683 1116.3729879460145\n"
     ]
    },
    {
     "data": {
      "image/png": "[encoded data removed]",
      "text/plain": [
       "<Figure size 432x288 with 1 Axes>"
      ]
     },
     "metadata": {
      "needs_background": "light"
     },
     "output_type": "display_data"
    }
   ],
   "source": [
    "# mini batch gradient descent\n",
    "\n",
    "\n",
    "cost_list =[]\n",
    "epochs_list = []\n",
    "def mini_batch_gradient_descent(X,Y_true , epochs  ,learning_rate =0.01):\n",
    "    number_of_features = X.shape[1]\n",
    "    \n",
    "    w= np.ones(shape = (number_of_features))\n",
    "    b=0\n",
    "    n = len(X)\n",
    "    \n",
    "    \n",
    "    \n",
    "    for i in range(epochs):\n",
    "        random_range  = random.sample(range(0,n) , max(1,n-4))\n",
    "        sample_x =X[random_range]\n",
    "        sample_y =Y_true[random_range]\n",
    "        Y_pred = np.dot(w ,sample_x.T)+b\n",
    "        \n",
    "        w_grad = -(2/n)*(sample_x.T.dot(sample_y-Y_pred))\n",
    "        b_grad = -(2/n)*np.sum(sample_y-Y_pred)\n",
    "        \n",
    "        w =w-learning_rate*w_grad\n",
    "        b =b-learning_rate*b_grad\n",
    "\n",
    "        cost = np.mean(np.square(sample_y-Y_pred))\n",
    "    \n",
    "        if i%100==0: \n",
    "            cost_list.append(cost)\n",
    "            epochs_list.append(i)\n",
    "            \n",
    "    return w,b,cost\n",
    "        \n",
    "    \n",
    "w , b ,cost= mini_batch_gradient_descent(X_train ,Y_train ,1000,0.001)\n",
    "plt.plot(epochs_list ,cost_list)\n",
    "\n",
    "print(w , b ,cost)\n",
    "\n",
    "# random.sample(range(0,10) , max(1,10-4))\n",
    "\n"
   ]
  }
 ],
 "metadata": {
  "kernelspec": {
   "display_name": "Python 3",
   "language": "python",
   "name": "python3"
  },
  "language_info": {
   "codemirror_mode": {
    "name": "ipython",
    "version": 3
   },
   "file_extension": ".py",
   "mimetype": "text/x-python",
   "name": "python",
   "nbconvert_exporter": "python",
   "pygments_lexer": "ipython3",
   "version": "3.8.5"
  }
 },
 "nbformat": 4,
 "nbformat_minor": 4
}
