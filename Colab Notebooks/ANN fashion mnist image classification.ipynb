{
 "cells": [
  {
   "cell_type": "code",
   "execution_count": 68,
   "metadata": {
    "executionInfo": {
     "elapsed": 1503,
     "status": "ok",
     "timestamp": 1610872540743,
     "user": {
      "displayName": "vikas sao",
      "photoUrl": "",
      "userId": "08189896451819436987"
     },
     "user_tz": -330
    },
    "id": "yOA3WdK8WO29"
   },
   "outputs": [],
   "source": [
    "import time\n",
    "import numpy as np\n",
    "import pandas as pd\n",
    "import seaborn as sns\n",
    "import random\n",
    "import math\n",
    "import sys\n",
    "import copy\n",
    "import matplotlib.pyplot as plt \n",
    "%matplotlib inline\n",
    "from sklearn.preprocessing import LabelEncoder \n",
    "from sklearn.model_selection import train_test_split\n",
    "import warnings\n",
    "warnings.filterwarnings('ignore') \n",
    "from zipfile import ZipFile \n",
    "import tensorflow as tf\n",
    "from tensorflow import keras\n",
    "\n"
   ]
  },
  {
   "cell_type": "code",
   "execution_count": 69,
   "metadata": {
    "colab": {
     "base_uri": "https://localhost:8080/"
    },
    "executionInfo": {
     "elapsed": 2512,
     "status": "ok",
     "timestamp": 1610872541765,
     "user": {
      "displayName": "vikas sao",
      "photoUrl": "",
      "userId": "08189896451819436987"
     },
     "user_tz": -330
    },
    "id": "FJIxLnHXWiik",
    "outputId": "1d6744f5-25b9-47d3-c3f8-56adc07814d2"
   },
   "outputs": [
    {
     "name": "stdout",
     "output_type": "stream",
     "text": [
      "(60000, 28, 28)\n",
      "(60000,)\n"
     ]
    }
   ],
   "source": [
    "(X_train ,Y_train) ,(X_test,Y_test) =tf.keras.datasets.fashion_mnist.load_data() \n",
    "classes = ['T-shirt/top', 'Trouser', 'Pullover', 'Dress', 'Coat',  'Sandal', 'Shirt', 'Sneaker', 'Bag', 'Ankle boot']\n",
    "X_train = X_train/255\n",
    "X_test = X_test/255\n",
    "\n",
    "\n",
    "print (X_train.shape)\n",
    "print (Y_train.shape)\n"
   ]
  },
  {
   "cell_type": "code",
   "execution_count": 70,
   "metadata": {
    "colab": {
     "base_uri": "https://localhost:8080/",
     "height": 282
    },
    "executionInfo": {
     "elapsed": 2501,
     "status": "ok",
     "timestamp": 1610872541768,
     "user": {
      "displayName": "vikas sao",
      "photoUrl": "",
      "userId": "08189896451819436987"
     },
     "user_tz": -330
    },
    "id": "K5lUjNaZXgsU",
    "outputId": "705f56e0-0fec-453b-aad0-dc703c5a6d00"
   },
   "outputs": [
    {
     "name": "stdout",
     "output_type": "stream",
     "text": [
      "Trouser\n"
     ]
    },
    {
     "data": {
      "image/png": "[encoded data removed]",
      "text/plain": [
       "<Figure size 432x288 with 1 Axes>"
      ]
     },
     "metadata": {
      "needs_background": "light",
      "tags": []
     },
     "output_type": "display_data"
    }
   ],
   "source": [
    "index  = random.randint(0,len(X_train))\n",
    "plt.imshow(X_train[index] ,cmap ='gray')\n",
    "print(classes[Y_train[index]])\n"
   ]
  },
  {
   "cell_type": "code",
   "execution_count": 71,
   "metadata": {
    "colab": {
     "base_uri": "https://localhost:8080/"
    },
    "executionInfo": {
     "elapsed": 2491,
     "status": "ok",
     "timestamp": 1610872541770,
     "user": {
      "displayName": "vikas sao",
      "photoUrl": "",
      "userId": "08189896451819436987"
     },
     "user_tz": -330
    },
    "id": "Ld9OHK1gWs-M",
    "outputId": "d3f96922-1cc0-41f9-f177-f4cb4797b2a6"
   },
   "outputs": [
    {
     "name": "stdout",
     "output_type": "stream",
     "text": [
      "[[9]\n",
      " [2]\n",
      " [1]\n",
      " [1]\n",
      " [6]]\n",
      "[[0. 0. 0. 0. 0. 0. 0. 0. 0. 1.]\n",
      " [1. 0. 0. 0. 0. 0. 0. 0. 0. 0.]\n",
      " [1. 0. 0. 0. 0. 0. 0. 0. 0. 0.]\n",
      " [0. 0. 0. 1. 0. 0. 0. 0. 0. 0.]\n",
      " [1. 0. 0. 0. 0. 0. 0. 0. 0. 0.]]\n",
      "[[0. 0. 0. 0. 0. 0. 0. 0. 0. 1.]\n",
      " [0. 0. 1. 0. 0. 0. 0. 0. 0. 0.]\n",
      " [0. 1. 0. 0. 0. 0. 0. 0. 0. 0.]\n",
      " [0. 1. 0. 0. 0. 0. 0. 0. 0. 0.]\n",
      " [0. 0. 0. 0. 0. 0. 1. 0. 0. 0.]]\n"
     ]
    }
   ],
   "source": [
    "\n",
    "\n",
    "Y_train.shape = (len(Y_train) ,1)\n",
    "Y_test.shape = (len(Y_test) ,1)\n",
    "print(Y_test[0:5])\n",
    "Y_train_bool = keras.utils.to_categorical(\n",
    "    Y_train ,num_classes =10 ,dtype ='float32'\n",
    ") \n",
    "Y_test_bool = keras.utils.to_categorical(\n",
    "    Y_test ,num_classes =10 ,dtype ='float32'\n",
    ")\n",
    "print(Y_train_bool[0:5])\n",
    "print(Y_test_bool[0:5]) \n",
    " "
   ]
  },
  {
   "cell_type": "code",
   "execution_count": 72,
   "metadata": {
    "colab": {
     "base_uri": "https://localhost:8080/"
    },
    "executionInfo": {
     "elapsed": 2483,
     "status": "ok",
     "timestamp": 1610872541772,
     "user": {
      "displayName": "vikas sao",
      "photoUrl": "",
      "userId": "08189896451819436987"
     },
     "user_tz": -330
    },
    "id": "-AVpBkbzYy1N",
    "outputId": "26a0db0b-7f18-4d9c-e0a9-74d30e8ead59"
   },
   "outputs": [
    {
     "name": "stdout",
     "output_type": "stream",
     "text": [
      "(60000, 28, 28)\n",
      "(10000, 28, 28)\n",
      "(60000, 1)\n",
      "(10000, 1)\n"
     ]
    }
   ],
   "source": [
    "model = keras.Sequential([\n",
    "  keras.layers.Flatten(input_shape =(28 ,28)),\n",
    "  keras.layers.Dense(3000 , activation='relu'),\n",
    "  keras.layers.Dense(1000 , activation='relu'),\n",
    "  keras.layers.Dense(10 , activation='sigmoid')\n",
    "  \n",
    "])\n",
    "\n",
    "model.compile(\n",
    "    optimizer ='SGD' ,\n",
    "    loss = 'categorical_crossentropy',\n",
    "    metrics =['accuracy']\n",
    ")\n",
    "\n",
    "print(X_train.shape)\n",
    "print(X_test.shape)\n",
    "print(Y_train.shape)\n",
    "print(Y_test.shape)\n"
   ]
  },
  {
   "cell_type": "code",
   "execution_count": 73,
   "metadata": {
    "colab": {
     "base_uri": "https://localhost:8080/"
    },
    "executionInfo": {
     "elapsed": 2473,
     "status": "ok",
     "timestamp": 1610872541774,
     "user": {
      "displayName": "vikas sao",
      "photoUrl": "",
      "userId": "08189896451819436987"
     },
     "user_tz": -330
    },
    "id": "9Pp2f7snZbIg",
    "outputId": "8e2d2652-d299-46f6-a1ea-10a510663d22"
   },
   "outputs": [
    {
     "name": "stdout",
     "output_type": "stream",
     "text": [
      "[PhysicalDevice(name='/physical_device:CPU:0', device_type='CPU'), PhysicalDevice(name='/physical_device:GPU:0', device_type='GPU')]\n",
      "[LogicalDevice(name='/device:CPU:0', device_type='CPU'), LogicalDevice(name='/device:GPU:0', device_type='GPU')]\n"
     ]
    }
   ],
   "source": [
    "print(tf.config.experimental.list_physical_devices())\n",
    "print(tf.config.experimental.list_logical_devices())"
   ]
  },
  {
   "cell_type": "code",
   "execution_count": 74,
   "metadata": {
    "colab": {
     "base_uri": "https://localhost:8080/"
    },
    "executionInfo": {
     "elapsed": 6597,
     "status": "ok",
     "timestamp": 1610872545906,
     "user": {
      "displayName": "vikas sao",
      "photoUrl": "",
      "userId": "08189896451819436987"
     },
     "user_tz": -330
    },
    "id": "axQ2noHEZxIN",
    "outputId": "b08b87d3-cb06-4ecd-b247-b6a1483e9346"
   },
   "outputs": [
    {
     "name": "stdout",
     "output_type": "stream",
     "text": [
      "1875/1875 [==============================] - 4s 2ms/step - loss: 0.8576 - accuracy: 0.7296\n",
      "1 loop, best of 1: 4.4 s per loop\n"
     ]
    }
   ],
   "source": [
    "%%timeit -n1 -r1\n",
    "\n",
    "with tf.device('/GPU:0'):\n",
    "\n",
    " model.fit(X_train ,   Y_train_bool  ,epochs=1)\n"
   ]
  },
  {
   "cell_type": "code",
   "execution_count": 79,
   "metadata": {
    "colab": {
     "base_uri": "https://localhost:8080/",
     "height": 316
    },
    "executionInfo": {
     "elapsed": 1316,
     "status": "ok",
     "timestamp": 1610872557439,
     "user": {
      "displayName": "vikas sao",
      "photoUrl": "",
      "userId": "08189896451819436987"
     },
     "user_tz": -330
    },
    "id": "LqNn1af1fAyN",
    "outputId": "9ec3352d-e57b-4d2b-c856-7ac61dc4f87b"
   },
   "outputs": [
    {
     "name": "stdout",
     "output_type": "stream",
     "text": [
      "predicted value is  =  Bag\n",
      "correct value is  =  Bag\n"
     ]
    },
    {
     "data": {
      "text/plain": [
       "<matplotlib.image.AxesImage at 0x7f692628e240>"
      ]
     },
     "execution_count": 79,
     "metadata": {
      "tags": []
     },
     "output_type": "execute_result"
    },
    {
     "data": {
      "image/png": "[encoded data removed]",
      "text/plain": [
       "<Figure size 432x288 with 1 Axes>"
      ]
     },
     "metadata": {
      "needs_background": "light",
      "tags": []
     },
     "output_type": "display_data"
    }
   ],
   "source": [
    "index = random.randint(0,len(Y_test))\n",
    "\n",
    "print('predicted value is  = ' , classes[np.argmax(model.predict(X_test[index:index+1]))])\n",
    "print('correct value is  = ' , classes[Y_test[index][0]])\n",
    "\n",
    "plt.imshow(X_test[index])\n",
    "model.evaluate(X_test)"
   ]
  }
 ],
 "metadata": {
  "accelerator": "GPU",
  "colab": {
   "authorship_tag": "ABX9TyO+edHni18KEF9hfSIlOFec",
   "collapsed_sections": [],
   "name": "ANN fashion mnist image classification.ipynb",
   "provenance": []
  },
  "kernelspec": {
   "display_name": "Python 3",
   "language": "python",
   "name": "python3"
  }
 },
 "nbformat": 4,
 "nbformat_minor": 1
}
