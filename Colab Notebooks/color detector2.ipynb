{
 "cells": [
  {
   "cell_type": "code",
   "execution_count": 1,
   "metadata": {},
   "outputs": [],
   "source": [
    "import time\n",
    "import numpy as np\n",
    "import pandas as pd\n",
    "import seaborn as sns\n",
    "import math\n",
    "import sys\n",
    "import copy\n",
    "import matplotlib.pyplot as plt \n",
    "%matplotlib inline\n",
    "from sklearn.preprocessing import LabelEncoder \n",
    "from sklearn.model_selection import train_test_split\n",
    "import warnings\n",
    "warnings.filterwarnings('ignore') \n",
    "from zipfile import ZipFile \n",
    "\n",
    "import cv2\n"
   ]
  },
  {
   "cell_type": "code",
   "execution_count": 2,
   "metadata": {},
   "outputs": [],
   "source": [
    "cap  = cv2.VideoCapture(0)\n",
    "cap.set(3,200)\n",
    "cap.set(4,200)\n",
    "\n",
    "cv2.namedWindow('HSV')\n",
    "cv2.resizeWindow('HSV'  ,650, 250)\n",
    "def empty(a):\n",
    "    pass\n",
    "\n",
    "cv2.createTrackbar('HUE min' , 'HSV' , 0,179 ,empty)\n",
    "cv2.createTrackbar('HUE max', 'HSV' , 179,179, empty)\n",
    "cv2.createTrackbar('SAT min', 'HSV' , 0,255 ,empty)\n",
    "cv2.createTrackbar('SAT max', 'HSV' , 255,255 ,empty)\n",
    "cv2.createTrackbar('VAL min' , 'HSV', 0,255 ,empty)\n",
    "cv2.createTrackbar('VAL max' , 'HSV', 255,255 ,empty)\n",
    "\n",
    "while True:\n",
    "    ret ,frame = cap.read()\n",
    "    imghsv= cv2.cvtColor(frame ,cv2.COLOR_BGR2HSV)\n",
    "    \n",
    "    h_min = cv2.getTrackbarPos('HUE min' , 'HSV')\n",
    "    h_max = cv2.getTrackbarPos('HUE max' , 'HSV')\n",
    "    s_min = cv2.getTrackbarPos('SAT min' , 'HSV')\n",
    "    s_max = cv2.getTrackbarPos('SAT max' , 'HSV')\n",
    "    v_min = cv2.getTrackbarPos('VAL min' , 'HSV')\n",
    "    v_max = cv2.getTrackbarPos('VAL max' , 'HSV')\n",
    "#     print(h_min)\n",
    "    lower = np.array([h_min ,s_min , v_min])\n",
    "    upper = np.array([h_max ,s_max , v_max])\n",
    "    mask =cv2.inRange(imghsv , lower ,upper)\n",
    "    result  = cv2.bitwise_and(frame,frame ,mask =mask)\n",
    "    \n",
    "    \n",
    "    cv2.imshow('original' , frame)\n",
    "    cv2.imshow('second' , imghsv)\n",
    "    cv2.imshow('mask' , mask)\n",
    "    cv2.imshow('result' , result)\n",
    "    \n",
    "    if cv2.waitKey(1) & 0xFF==ord('q'):\n",
    "        break\n",
    "\n",
    "cap.release()\n",
    "cv2.destroyAllWindows()\n",
    "    \n"
   ]
  },
  {
   "cell_type": "code",
   "execution_count": null,
   "metadata": {},
   "outputs": [],
   "source": []
  },
  {
   "cell_type": "code",
   "execution_count": null,
   "metadata": {},
   "outputs": [],
   "source": []
  }
 ],
 "metadata": {
  "kernelspec": {
   "display_name": "Python 3",
   "language": "python",
   "name": "python3"
  },
  "language_info": {
   "codemirror_mode": {
    "name": "ipython",
    "version": 3
   },
   "file_extension": ".py",
   "mimetype": "text/x-python",
   "name": "python",
   "nbconvert_exporter": "python",
   "pygments_lexer": "ipython3",
   "version": "3.10.4"
  }
 },
 "nbformat": 4,
 "nbformat_minor": 4
}
