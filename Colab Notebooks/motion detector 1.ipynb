{
 "cells": [
  {
   "cell_type": "code",
   "execution_count": 11,
   "metadata": {},
   "outputs": [],
   "source": [
    "import time\n",
    "import numpy as np\n",
    "import pandas as pd\n",
    "import seaborn as sns\n",
    "import math\n",
    "import sys\n",
    "import copy\n",
    "import matplotlib.pyplot as plt \n",
    "%matplotlib inline\n",
    "from sklearn.preprocessing import LabelEncoder \n",
    "from sklearn.model_selection import train_test_split\n",
    "import warnings\n",
    "warnings.filterwarnings('ignore') \n",
    "from zipfile import ZipFile \n",
    "import cv2\n"
   ]
  },
  {
   "cell_type": "code",
   "execution_count": 12,
   "metadata": {},
   "outputs": [
    {
     "ename": "error",
     "evalue": "OpenCV(4.5.5) D:\\a\\opencv-python\\opencv-python\\opencv\\modules\\imgproc\\src\\color.cpp:182: error: (-215:Assertion failed) !_src.empty() in function 'cv::cvtColor'\n",
     "output_type": "error",
     "traceback": [
      "\u001b[1;31m---------------------------------------------------------------------------\u001b[0m",
      "\u001b[1;31merror\u001b[0m                                     Traceback (most recent call last)",
      "Input \u001b[1;32mIn [12]\u001b[0m, in \u001b[0;36m<cell line: 10>\u001b[1;34m()\u001b[0m\n\u001b[0;32m     10\u001b[0m \u001b[38;5;28;01mwhile\u001b[39;00m \u001b[38;5;28;01mTrue\u001b[39;00m:\n\u001b[0;32m     12\u001b[0m     diff\u001b[38;5;241m=\u001b[39m  cv2\u001b[38;5;241m.\u001b[39mabsdiff(frame1 ,frame2)\n\u001b[1;32m---> 13\u001b[0m     gray \u001b[38;5;241m=\u001b[39m \u001b[43mcv2\u001b[49m\u001b[38;5;241;43m.\u001b[39;49m\u001b[43mcvtColor\u001b[49m\u001b[43m(\u001b[49m\u001b[43mdiff\u001b[49m\u001b[43m \u001b[49m\u001b[43m,\u001b[49m\u001b[43m \u001b[49m\u001b[43mcv2\u001b[49m\u001b[38;5;241;43m.\u001b[39;49m\u001b[43mCOLOR_BGR2GRAY\u001b[49m\u001b[43m)\u001b[49m\n\u001b[0;32m     14\u001b[0m \u001b[38;5;66;03m#     gauss= cv2.cvtColor(gray , (21,21) ,0)\u001b[39;00m\n\u001b[0;32m     15\u001b[0m     blur \u001b[38;5;241m=\u001b[39m cv2\u001b[38;5;241m.\u001b[39mGaussianBlur(gray , (\u001b[38;5;241m5\u001b[39m,\u001b[38;5;241m5\u001b[39m) , \u001b[38;5;241m0\u001b[39m)\n",
      "\u001b[1;31merror\u001b[0m: OpenCV(4.5.5) D:\\a\\opencv-python\\opencv-python\\opencv\\modules\\imgproc\\src\\color.cpp:182: error: (-215:Assertion failed) !_src.empty() in function 'cv::cvtColor'\n"
     ]
    }
   ],
   "source": [
    "cap = cv2.VideoCapture('video.mp4')\n",
    "cap.set(3,300)\n",
    "cap.set(4,400)\n",
    "ret , frame1 =cap.read()\n",
    "ret , frame2 =cap.read()\n",
    "\n",
    "\n",
    "\n",
    "\n",
    "while True:\n",
    "    \n",
    "    diff=  cv2.absdiff(frame1 ,frame2)\n",
    "    gray = cv2.cvtColor(diff , cv2.COLOR_BGR2GRAY)\n",
    "#     gauss= cv2.cvtColor(gray , (21,21) ,0)\n",
    "    blur = cv2.GaussianBlur(gray , (5,5) , 0)\n",
    "    result =cv2.bitwise_and(frame1 ,frame1 , mask = blur)\n",
    "    \n",
    "#     gray = cv2.cvtColor(diff ,    )\n",
    "#     hsv = cv2.cvtColor(image,cv2.COLOR_BGR2HSV)\n",
    "\n",
    "    _, thresh =  cv2.threshold(blur ,20,255 , cv2.THRESH_BINARY)\n",
    "    \n",
    "    dilated =cv2.dilate(thresh , None , iterations = 3)\n",
    "    contours, _ =cv2.findContours(dilated , cv2.RETR_TREE, cv2.CHAIN_APPROX_SIMPLE)\n",
    "    \n",
    "    for c in contours:\n",
    "        (x,y,w,h) = cv2.boundingRect(c)\n",
    "        if cv2.contourArea(c)>1000:\n",
    "            cv2.rectangle(frame1 ,(x,y) , (x+w,y+h) ,(0,255,0) ,3)\n",
    "    \n",
    "#     cv2.drawContours(frame1  , contours ,-1 , (0,255,0),2 )\n",
    "    cv2.imshow('image' , frame1)\n",
    "    frame1=frame2\n",
    "    ret ,frame2 =cap.read()\n",
    "    \n",
    "    \n",
    "\n",
    "    \n",
    "    \n",
    "    \n",
    "#     cv2.imshow('hsv' , hsv)\n",
    "    k = cv2.waitKey(5)\n",
    "    if k==27:\n",
    "        break\n",
    "    \n",
    "    \n",
    "cap.release()\n",
    "cv2.destroyAllWindows()"
   ]
  }
 ],
 "metadata": {
  "kernelspec": {
   "display_name": "Python 3",
   "language": "python",
   "name": "python3"
  },
  "language_info": {
   "codemirror_mode": {
    "name": "ipython",
    "version": 3
   },
   "file_extension": ".py",
   "mimetype": "text/x-python",
   "name": "python",
   "nbconvert_exporter": "python",
   "pygments_lexer": "ipython3",
   "version": "3.10.4"
  }
 },
 "nbformat": 4,
 "nbformat_minor": 4
}
