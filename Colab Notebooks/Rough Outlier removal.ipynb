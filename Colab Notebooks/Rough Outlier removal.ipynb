{
 "cells": [
  {
   "cell_type": "code",
   "execution_count": 76,
   "metadata": {},
   "outputs": [],
   "source": [
    "import time\n",
    "import numpy as np\n",
    "import pandas as pd\n",
    "import seaborn as sns\n",
    "import random\n",
    "import math\n",
    "import sys\n",
    "import copy\n",
    "import matplotlib.pyplot as plt \n",
    "%matplotlib inline\n",
    "from sklearn.preprocessing import LabelEncoder \n",
    "from sklearn.model_selection import train_test_split\n",
    "import warnings\n",
    "warnings.filterwarnings('ignore') \n",
    "from zipfile import ZipFile \n",
    "import sklearn\n",
    "import tensorflow as tf\n",
    "import tensorflow_hub as hub\n",
    "from tensorflow import keras \n",
    "from tensorflow.keras import layers \n",
    "from tensorflow.keras.models import Sequential \n",
    "import PIL.Image as Image\n",
    "import cv2\n",
    "from sklearn.preprocessing import MinMaxScaler\n",
    "from sklearn.cluster import KMeans\n",
    "from sklearn.datasets import make_blobs\n",
    "\n",
    "\n",
    "\n",
    " \n",
    " "
   ]
  },
  {
   "cell_type": "code",
   "execution_count": 77,
   "metadata": {},
   "outputs": [
    {
     "data": {
      "text/html": [
       "<div>\n",
       "<style scoped>\n",
       "    .dataframe tbody tr th:only-of-type {\n",
       "        vertical-align: middle;\n",
       "    }\n",
       "\n",
       "    .dataframe tbody tr th {\n",
       "        vertical-align: top;\n",
       "    }\n",
       "\n",
       "    .dataframe thead th {\n",
       "        text-align: right;\n",
       "    }\n",
       "</style>\n",
       "<table border=\"1\" class=\"dataframe\">\n",
       "  <thead>\n",
       "    <tr style=\"text-align: right;\">\n",
       "      <th></th>\n",
       "      <th>a</th>\n",
       "      <th>b</th>\n",
       "    </tr>\n",
       "  </thead>\n",
       "  <tbody>\n",
       "    <tr>\n",
       "      <th>0</th>\n",
       "      <td>453.0</td>\n",
       "      <td>52.0</td>\n",
       "    </tr>\n",
       "    <tr>\n",
       "      <th>1</th>\n",
       "      <td>262.0</td>\n",
       "      <td>95.0</td>\n",
       "    </tr>\n",
       "    <tr>\n",
       "      <th>2</th>\n",
       "      <td>100.0</td>\n",
       "      <td>40.0</td>\n",
       "    </tr>\n",
       "    <tr>\n",
       "      <th>3</th>\n",
       "      <td>762.0</td>\n",
       "      <td>107.0</td>\n",
       "    </tr>\n",
       "    <tr>\n",
       "      <th>4</th>\n",
       "      <td>286.0</td>\n",
       "      <td>51.0</td>\n",
       "    </tr>\n",
       "  </tbody>\n",
       "</table>\n",
       "</div>"
      ],
      "text/plain": [
       "       a      b\n",
       "0  453.0   52.0\n",
       "1  262.0   95.0\n",
       "2  100.0   40.0\n",
       "3  762.0  107.0\n",
       "4  286.0   51.0"
      ]
     },
     "execution_count": 77,
     "metadata": {},
     "output_type": "execute_result"
    }
   ],
   "source": [
    "data = pd.read_csv('sonar_dataset.csv')\n",
    "x = data['0.0200']\n",
    "y = data['0.0090']\n",
    "x  =x*10000\n",
    "y   =y*10000\n",
    "data =data.drop(data.columns,axis=1)\n",
    "data['a'] = x\n",
    "data['b'] = y\n",
    "data.head()"
   ]
  },
  {
   "cell_type": "code",
   "execution_count": 78,
   "metadata": {},
   "outputs": [
    {
     "data": {
      "text/plain": [
       "(array([ 4.,  6., 16., 15., 15., 11., 19., 21., 10., 13., 12., 10.,  6.,\n",
       "         8.,  5.,  5.,  4.,  1.,  5.,  0.,  0.,  2.,  2.,  2.,  0.,  3.,\n",
       "         2.,  1.,  1.,  0.,  0.,  1.,  0.,  0.,  0.,  1.,  0.,  1.,  0.,\n",
       "         2.,  0.,  1.,  0.,  0.,  0.,  0.,  0.,  1.,  0.,  1.]),\n",
       " array([  15.  ,   42.12,   69.24,   96.36,  123.48,  150.6 ,  177.72,\n",
       "         204.84,  231.96,  259.08,  286.2 ,  313.32,  340.44,  367.56,\n",
       "         394.68,  421.8 ,  448.92,  476.04,  503.16,  530.28,  557.4 ,\n",
       "         584.52,  611.64,  638.76,  665.88,  693.  ,  720.12,  747.24,\n",
       "         774.36,  801.48,  828.6 ,  855.72,  882.84,  909.96,  937.08,\n",
       "         964.2 ,  991.32, 1018.44, 1045.56, 1072.68, 1099.8 , 1126.92,\n",
       "        1154.04, 1181.16, 1208.28, 1235.4 , 1262.52, 1289.64, 1316.76,\n",
       "        1343.88, 1371.  ]),\n",
       " <BarContainer object of 50 artists>)"
      ]
     },
     "execution_count": 78,
     "metadata": {},
     "output_type": "execute_result"
    },
    {
     "data": {
      "image/png": "[encoded data removed]",
      "text/plain": [
       "<Figure size 432x288 with 1 Axes>"
      ]
     },
     "metadata": {
      "needs_background": "light"
     },
     "output_type": "display_data"
    }
   ],
   "source": [
    " plt.hist(data.a , bins =50   )"
   ]
  },
  {
   "cell_type": "code",
   "execution_count": 79,
   "metadata": {},
   "outputs": [
    {
     "name": "stdout",
     "output_type": "stream",
     "text": [
      "(207, 2)\n",
      "(192, 2)\n"
     ]
    },
    {
     "data": {
      "text/plain": [
       "(array([ 2.,  2.,  2.,  2.,  5.,  6., 11.,  8., 13.,  5.,  3.,  6.,  5.,\n",
       "         8., 14.,  8., 10.,  3.,  7.,  8.,  2.,  6.,  6.,  3.,  6.,  3.,\n",
       "         3.,  6.,  1.,  2.,  5.,  3.,  2.,  2.,  1.,  1.,  1.,  0.,  2.,\n",
       "         3.,  0.,  0.,  0.,  0.,  2.,  0.,  0.,  2.,  0.,  2.]),\n",
       " array([ 15.  ,  27.98,  40.96,  53.94,  66.92,  79.9 ,  92.88, 105.86,\n",
       "        118.84, 131.82, 144.8 , 157.78, 170.76, 183.74, 196.72, 209.7 ,\n",
       "        222.68, 235.66, 248.64, 261.62, 274.6 , 287.58, 300.56, 313.54,\n",
       "        326.52, 339.5 , 352.48, 365.46, 378.44, 391.42, 404.4 , 417.38,\n",
       "        430.36, 443.34, 456.32, 469.3 , 482.28, 495.26, 508.24, 521.22,\n",
       "        534.2 , 547.18, 560.16, 573.14, 586.12, 599.1 , 612.08, 625.06,\n",
       "        638.04, 651.02, 664.  ]),\n",
       " <BarContainer object of 50 artists>)"
      ]
     },
     "execution_count": 79,
     "metadata": {},
     "output_type": "execute_result"
    },
    {
     "data": {
      "image/png": "[encoded data removed]",
      "text/plain": [
       "<Figure size 432x288 with 1 Axes>"
      ]
     },
     "metadata": {
      "needs_background": "light"
     },
     "output_type": "display_data"
    }
   ],
   "source": [
    "#  outlier detection  with IQR technique\n",
    "\n",
    "iqr = data.a.quantile(.75)-data.a.quantile(.25)\n",
    "maxi   = data.a.quantile(.75)+(1.5)*iqr\n",
    "mini   = data.a.quantile(.25)-(1.5)*iqr\n",
    "\n",
    "\n",
    "print(data.shape)\n",
    "x = data[(data.a>mini) &( data.a<maxi)]\n",
    "print(x.shape)\n",
    "\n",
    "plt.hist(x.a , bins =50 )\n",
    "\n"
   ]
  },
  {
   "cell_type": "code",
   "execution_count": null,
   "metadata": {},
   "outputs": [],
   "source": [
    " "
   ]
  },
  {
   "cell_type": "code",
   "execution_count": null,
   "metadata": {},
   "outputs": [],
   "source": []
  },
  {
   "cell_type": "code",
   "execution_count": null,
   "metadata": {},
   "outputs": [],
   "source": [
    " \n"
   ]
  }
 ],
 "metadata": {
  "kernelspec": {
   "display_name": "Python 3",
   "language": "python",
   "name": "python3"
  },
  "language_info": {
   "codemirror_mode": {
    "name": "ipython",
    "version": 3
   },
   "file_extension": ".py",
   "mimetype": "text/x-python",
   "name": "python",
   "nbconvert_exporter": "python",
   "pygments_lexer": "ipython3",
   "version": "3.8.5"
  }
 },
 "nbformat": 4,
 "nbformat_minor": 4
}
