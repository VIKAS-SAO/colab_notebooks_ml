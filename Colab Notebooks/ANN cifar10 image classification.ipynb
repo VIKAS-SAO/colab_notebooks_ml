{
 "cells": [
  {
   "cell_type": "code",
   "execution_count": 1,
   "metadata": {},
   "outputs": [],
   "source": [
    "import time\n",
    "import numpy as np\n",
    "import pandas as pd\n",
    "import seaborn as sns\n",
    "import random\n",
    "import math\n",
    "import sys\n",
    "import copy\n",
    "import matplotlib.pyplot as plt \n",
    "%matplotlib inline\n",
    "from sklearn.preprocessing import LabelEncoder \n",
    "from sklearn.model_selection import train_test_split\n",
    "import warnings\n",
    "warnings.filterwarnings('ignore') \n",
    "from zipfile import ZipFile \n",
    "import tensorflow as tf\n",
    "from tensorflow import keras\n",
    "\n"
   ]
  },
  {
   "cell_type": "code",
   "execution_count": null,
   "metadata": {},
   "outputs": [],
   "source": [
    "\n",
    "tf.config.experimental.list_physical_devices()\n"
   ]
  },
  {
   "cell_type": "code",
   "execution_count": 21,
   "metadata": {},
   "outputs": [],
   "source": [
    "from keras.datasets import cifar10\n",
    "(X_train ,Y_train), (X_test , Y_test) = cifar10.load_data()\n",
    "X_train =  X_train/255\n",
    "X_test =  X_test/255"
   ]
  },
  {
   "cell_type": "code",
   "execution_count": 31,
   "metadata": {},
   "outputs": [
    {
     "name": "stdout",
     "output_type": "stream",
     "text": [
      "[[0. 0. 0. 0. 0. 0. 1. 0. 0. 0.]\n",
      " [0. 0. 0. 0. 0. 0. 0. 0. 0. 1.]\n",
      " [0. 0. 0. 0. 0. 0. 0. 0. 0. 1.]\n",
      " [0. 0. 0. 0. 1. 0. 0. 0. 0. 0.]\n",
      " [0. 1. 0. 0. 0. 0. 0. 0. 0. 0.]]\n",
      "[[0. 0. 0. 1. 0. 0. 0. 0. 0. 0.]\n",
      " [0. 0. 0. 0. 0. 0. 0. 0. 1. 0.]\n",
      " [0. 0. 0. 0. 0. 0. 0. 0. 1. 0.]\n",
      " [1. 0. 0. 0. 0. 0. 0. 0. 0. 0.]\n",
      " [0. 0. 0. 0. 0. 0. 1. 0. 0. 0.]]\n"
     ]
    }
   ],
   "source": [
    "classes  = ['airplane' ,'automobile' , 'bird' , 'cat' ,'deer','dog' ,'frog' ,'horse'  ,'ship' ,'truck']\n",
    " \n",
    "Y_train_categorical = keras.utils.to_categorical(\n",
    "    Y_train, num_classes =10 , dtype ='float32' \n",
    ")\n",
    "print(Y_train_categorical[0:5])\n",
    "\n",
    " \n",
    "Y_test_categorical = keras.utils.to_categorical(\n",
    "    Y_test, num_classes =10 , dtype ='float32' \n",
    ")\n",
    "print(Y_test_categorical[0:5])\n",
    "\n",
    " "
   ]
  },
  {
   "cell_type": "code",
   "execution_count": 42,
   "metadata": {},
   "outputs": [
    {
     "name": "stdout",
     "output_type": "stream",
     "text": [
      "Epoch 1/10\n",
      "1563/1563 [==============================] - 118s 76ms/step - loss: 1.8624 - accuracy: 0.3319\n",
      "Epoch 2/10\n",
      "1563/1563 [==============================] - 119s 76ms/step - loss: 1.6601 - accuracy: 0.4124\n",
      "Epoch 3/10\n",
      "1563/1563 [==============================] - 112s 72ms/step - loss: 1.5754 - accuracy: 0.4428\n",
      "Epoch 4/10\n",
      "1563/1563 [==============================] - 115s 73ms/step - loss: 1.5144 - accuracy: 0.4651s - loss:\n",
      "Epoch 5/10\n",
      "1563/1563 [==============================] - 124s 79ms/step - loss: 1.4610 - accuracy: 0.4850\n",
      "Epoch 6/10\n",
      "1563/1563 [==============================] - 108s 69ms/step - loss: 1.4200 - accuracy: 0.4982\n",
      "Epoch 7/10\n",
      "1563/1563 [==============================] - 111s 71ms/step - loss: 1.3805 - accuracy: 0.5153\n",
      "Epoch 8/10\n",
      "1563/1563 [==============================] - 121s 78ms/step - loss: 1.3446 - accuracy: 0.5259\n",
      "Epoch 9/10\n",
      "1563/1563 [==============================] - 112s 72ms/step - loss: 1.3137 - accuracy: 0.5397\n",
      "Epoch 10/10\n",
      "1563/1563 [==============================] - 114s 73ms/step - loss: 1.2812 - accuracy: 0.5498\n"
     ]
    },
    {
     "data": {
      "text/plain": [
       "<tensorflow.python.keras.callbacks.History at 0x1a9fbcc7c70>"
      ]
     },
     "execution_count": 42,
     "metadata": {},
     "output_type": "execute_result"
    }
   ],
   "source": [
    "model   = keras.Sequential([\n",
    "    keras.layers.Flatten(input_shape =(32,32,3)),\n",
    "    keras.layers.Dense(3000 ,activation ='relu'),\n",
    "    keras.layers.Dense(1000 ,activation ='relu'),\n",
    "    keras.layers.Dense(10 ,activation ='sigmoid')\n",
    "    \n",
    "    \n",
    "])\n",
    "\n",
    "model.compile(\n",
    "    optimizer='SGD' ,\n",
    "    loss ='categorical_crossentropy',\n",
    "    metrics=['accuracy']\n",
    ")\n",
    "model.fit(X_train ,Y_train_categorical, epochs=10)"
   ]
  },
  {
   "cell_type": "code",
   "execution_count": 53,
   "metadata": {},
   "outputs": [
    {
     "name": "stdout",
     "output_type": "stream",
     "text": [
      "[[3.3934712e-03 5.3261518e-03 5.8985054e-03 1.9457042e-02 1.3879538e-03\n",
      "  4.1072071e-03 5.3043067e-03 2.6161546e-05 6.1205328e-03 2.8192997e-04]]\n",
      "[3]\n"
     ]
    }
   ],
   "source": [
    "print(model.predict(X_test[0:1]))\n",
    "print(Y_test[0])"
   ]
  },
  {
   "cell_type": "code",
   "execution_count": null,
   "metadata": {},
   "outputs": [],
   "source": []
  }
 ],
 "metadata": {
  "kernelspec": {
   "display_name": "Python 3",
   "language": "python",
   "name": "python3"
  },
  "language_info": {
   "codemirror_mode": {
    "name": "ipython",
    "version": 3
   },
   "file_extension": ".py",
   "mimetype": "text/x-python",
   "name": "python",
   "nbconvert_exporter": "python",
   "pygments_lexer": "ipython3",
   "version": "3.8.5"
  }
 },
 "nbformat": 4,
 "nbformat_minor": 4
}
